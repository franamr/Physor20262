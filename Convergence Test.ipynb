{
 "cells": [
  {
   "cell_type": "markdown",
   "id": "4d0f2033",
   "metadata": {},
   "source": [
    "# Convergence test Dynamic Power Iteration with Momentum"
   ]
  },
  {
   "cell_type": "code",
   "execution_count": 1,
   "id": "c6005946",
   "metadata": {},
   "outputs": [],
   "source": [
    "from mpi4py import MPI\n",
    "from dolfinx import *\n",
    "from dolfinx import mesh, fem, default_scalar_type\n",
    "import numpy as np\n",
    "from slepc4py   import SLEPc\n",
    "from dolfinx.fem.petsc import assemble_matrix\n",
    "from mshr import *\n",
    "import basix, ufl, os\n",
    "import time\n"
   ]
  },
  {
   "cell_type": "code",
   "execution_count": 2,
   "id": "871d1deb",
   "metadata": {},
   "outputs": [],
   "source": [
    "from NeutronTransportSolver import NeutronTransportSolver"
   ]
  },
  {
   "cell_type": "markdown",
   "id": "4550d787",
   "metadata": {},
   "source": [
    "### **Unitary square**"
   ]
  },
  {
   "cell_type": "code",
   "execution_count": 3,
   "id": "b61e4288",
   "metadata": {},
   "outputs": [
    {
     "name": "stdout",
     "output_type": "stream",
     "text": [
      "------------------------------------------------------------------------------\n",
      "16 x 36 Unit square\n",
      "k_eff                                                   : 0.014878728614072712\n",
      "Number of iterations Dynamic Power Method with momentum : 9\n",
      "CPU time                                                : 0.044142222000000064\n",
      "------------------------------------------------------------------------------\n",
      "32 x 32 Unit square\n",
      "k_eff                                                   : 0.014985004175294135\n",
      "Number of iterations Dynamic Power Method with momentum : 8\n",
      "CPU time                                                : 0.08101012400000007\n",
      "------------------------------------------------------------------------------\n",
      "64 x 64 Unit square\n",
      "k_eff                                                   : 0.01501176690389477\n",
      "Number of iterations Dynamic Power Method with momentum : 6\n",
      "CPU time                                                : 0.46609765199999975\n"
     ]
    }
   ],
   "source": [
    "# Crear el dominio\n",
    "domain = mesh.create_unit_square(MPI.COMM_WORLD, 16, 16)\n",
    "\n",
    "# Crear el solver y resolver \n",
    "solver = NeutronTransportSolver(domain)\n",
    "time0 = time.process_time()\n",
    "solver.solve()\n",
    "time1 = time.process_time()\n",
    "\n",
    "print('------------------------------------------------------------------------------')\n",
    "print('16 x 36 Unit square')\n",
    "print('k_eff                                                   :', solver.eigval)\n",
    "print('Number of iterations Dynamic Power Method with momentum :', solver.power_its)\n",
    "print('CPU time                                                :', time1 - time0)\n",
    "\n",
    "# Crear el dominio\n",
    "domain = mesh.create_unit_square(MPI.COMM_WORLD, 32, 32)\n",
    "\n",
    "# Crear el solver y resolver \n",
    "solver = NeutronTransportSolver(domain)\n",
    "time0 = time.process_time()\n",
    "solver.solve()\n",
    "time1 = time.process_time()\n",
    "\n",
    "print('------------------------------------------------------------------------------')\n",
    "print('32 x 32 Unit square')\n",
    "print('k_eff                                                   :', solver.eigval)\n",
    "print('Number of iterations Dynamic Power Method with momentum :', solver.power_its)\n",
    "print('CPU time                                                :', time1 - time0)\n",
    "\n",
    "# Crear el dominio\n",
    "domain = mesh.create_unit_square(MPI.COMM_WORLD, 64, 64)\n",
    "\n",
    "# Crear el solver y resolver \n",
    "solver = NeutronTransportSolver(domain)\n",
    "time0 = time.process_time()\n",
    "solver.solve()\n",
    "time1 = time.process_time()\n",
    "\n",
    "print('------------------------------------------------------------------------------')\n",
    "print('64 x 64 Unit square')\n",
    "print('k_eff                                                   :', solver.eigval)\n",
    "print('Number of iterations Dynamic Power Method with momentum :', solver.power_its)\n",
    "print('CPU time                                                :', time1 - time0)"
   ]
  },
  {
   "cell_type": "code",
   "execution_count": 4,
   "id": "e2fafeec",
   "metadata": {},
   "outputs": [
    {
     "name": "stdout",
     "output_type": "stream",
     "text": [
      "aca\n",
      "aca2\n",
      "------------------------------------------------------------------------------\n",
      "16 x 36 Unit square\n",
      "k_eff                                                   : (0.014878728582821887+0j)\n",
      "CPU time                                                : 0.08368770000000003\n",
      "aca\n",
      "aca2\n",
      "------------------------------------------------------------------------------\n",
      "32 x 32 Unit square\n",
      "k_eff                                                   : (0.014985003900740817+0j)\n",
      "CPU time                                                : 0.26166122199999986\n",
      "aca\n",
      "aca2\n",
      "------------------------------------------------------------------------------\n",
      "64 x 64 Unit square\n",
      "k_eff                                                   : (0.015011766854944021+0j)\n",
      "CPU time                                                : 1.4882569599999997\n"
     ]
    }
   ],
   "source": [
    "# Crear el dominio\n",
    "domain = mesh.create_unit_square(MPI.COMM_WORLD, 16, 16)\n",
    "\n",
    "# Crear el solver y resolver \n",
    "solver = NeutronTransportSolver(domain, eigmethod='slepc')\n",
    "time0 = time.process_time()\n",
    "solver.solve()\n",
    "time1 = time.process_time()\n",
    "\n",
    "print('------------------------------------------------------------------------------')\n",
    "print('16 x 36 Unit square')\n",
    "print('k_eff                                                   :', 1/solver.eigval)\n",
    "print('CPU time                                                :', time1 - time0)\n",
    "\n",
    "# Crear el dominio\n",
    "domain = mesh.create_unit_square(MPI.COMM_WORLD, 32, 32)\n",
    "\n",
    "# Crear el solver y resolver \n",
    "solver = NeutronTransportSolver(domain, eigmethod='slepc')\n",
    "time0 = time.process_time()\n",
    "solver.solve()\n",
    "time1 = time.process_time()\n",
    "\n",
    "print('------------------------------------------------------------------------------')\n",
    "print('32 x 32 Unit square')\n",
    "print('k_eff                                                   :', 1/solver.eigval)\n",
    "print('CPU time                                                :', time1 - time0)\n",
    "\n",
    "# Crear el dominio\n",
    "domain = mesh.create_unit_square(MPI.COMM_WORLD, 64, 64)\n",
    "\n",
    "# Crear el solver y resolver \n",
    "solver = NeutronTransportSolver(domain, eigmethod='slepc')\n",
    "time0 = time.process_time()\n",
    "solver.solve()\n",
    "time1 = time.process_time()\n",
    "\n",
    "print('------------------------------------------------------------------------------')\n",
    "print('64 x 64 Unit square')\n",
    "print('k_eff                                                   :', 1/solver.eigval)\n",
    "print('CPU time                                                :', time1 - time0)"
   ]
  },
  {
   "cell_type": "code",
   "execution_count": null,
   "id": "47a5b3a8",
   "metadata": {},
   "outputs": [],
   "source": []
  }
 ],
 "metadata": {
  "kernelspec": {
   "display_name": "Python (FEniCSx - System)",
   "language": "python",
   "name": "fenicsx_sys"
  },
  "language_info": {
   "codemirror_mode": {
    "name": "ipython",
    "version": 3
   },
   "file_extension": ".py",
   "mimetype": "text/x-python",
   "name": "python",
   "nbconvert_exporter": "python",
   "pygments_lexer": "ipython3",
   "version": "3.12.3"
  }
 },
 "nbformat": 4,
 "nbformat_minor": 5
}
