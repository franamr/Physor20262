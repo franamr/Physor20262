{
 "cells": [
  {
   "cell_type": "markdown",
   "id": "4d0f2033",
   "metadata": {},
   "source": [
    "# Convergence test Dynamic Power Iteration with Momentum"
   ]
  },
  {
   "cell_type": "code",
   "execution_count": 4,
   "id": "c6005946",
   "metadata": {},
   "outputs": [],
   "source": [
    "from mpi4py import MPI\n",
    "from dolfinx import *\n",
    "from dolfinx import mesh, fem, default_scalar_type\n",
    "import numpy as np\n",
    "from slepc4py   import SLEPc\n",
    "from dolfinx.fem.petsc import assemble_matrix\n",
    "from mshr import *\n",
    "import basix, ufl, os"
   ]
  },
  {
   "cell_type": "code",
   "execution_count": 5,
   "id": "871d1deb",
   "metadata": {},
   "outputs": [],
   "source": [
    "from NeutronTransportSolver import NeutronTransportSolver"
   ]
  },
  {
   "cell_type": "code",
   "execution_count": 6,
   "id": "b61e4288",
   "metadata": {},
   "outputs": [],
   "source": [
    "# Crear el dominio\n",
    "domain = mesh.create_unit_square(MPI.COMM_WORLD, 32, 32)\n",
    "\n",
    "# Crear el solver y resolver con N_eig=4\n",
    "solver = NeutronTransportSolver(domain)\n",
    "solver.solve()"
   ]
  },
  {
   "cell_type": "code",
   "execution_count": 10,
   "id": "5a60503e",
   "metadata": {},
   "outputs": [
    {
     "data": {
      "text/plain": [
       "66.73338147270628"
      ]
     },
     "execution_count": 10,
     "metadata": {},
     "output_type": "execute_result"
    }
   ],
   "source": [
    "1/solver.eigval"
   ]
  },
  {
   "cell_type": "code",
   "execution_count": 11,
   "id": "b196c4f0",
   "metadata": {},
   "outputs": [
    {
     "data": {
      "text/plain": [
       "8"
      ]
     },
     "execution_count": 11,
     "metadata": {},
     "output_type": "execute_result"
    }
   ],
   "source": [
    "solver.power_its"
   ]
  },
  {
   "cell_type": "code",
   "execution_count": null,
   "id": "47a5b3a8",
   "metadata": {},
   "outputs": [],
   "source": []
  }
 ],
 "metadata": {
  "kernelspec": {
   "display_name": "Python (FEniCSx - System)",
   "language": "python",
   "name": "fenicsx_sys"
  },
  "language_info": {
   "codemirror_mode": {
    "name": "ipython",
    "version": 3
   },
   "file_extension": ".py",
   "mimetype": "text/x-python",
   "name": "python",
   "nbconvert_exporter": "python",
   "pygments_lexer": "ipython3",
   "version": "3.12.3"
  }
 },
 "nbformat": 4,
 "nbformat_minor": 5
}
